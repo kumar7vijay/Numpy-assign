{
  "metadata": {
    "kernelspec": {
      "name": "python",
      "display_name": "Python (Pyodide)",
      "language": "python"
    },
    "language_info": {
      "codemirror_mode": {
        "name": "python",
        "version": 3
      },
      "file_extension": ".py",
      "mimetype": "text/x-python",
      "name": "python",
      "nbconvert_exporter": "python",
      "pygments_lexer": "ipython3",
      "version": "3.8"
    }
  },
  "nbformat_minor": 4,
  "nbformat": 4,
  "cells": [
    {
      "cell_type": "markdown",
      "source": "## 1.  Explain the purpose and advantages of NumPy in scientific computing and data analysis. How does it enhance Python's capabilities for numerical operations?",
      "metadata": {}
    },
    {
      "cell_type": "markdown",
      "source": "NumPy, short for Numerical Python, is a foundational library for scientific computing and data analysis in Python. Its primary purpose is to provide support for large, multi-dimensional arrays and matrices, along with a collection of mathematical functions to operate on these data structures efficiently. Here are some key advantages and ways it enhances Python's capabilities for numerical operations:\n\n### 1. Efficient Array Operations\n\n    * N-dimensional Arrays: NumPy introduces the ndarray object, which allows for the creation of arrays of any dimension (1D, 2D, 3D, etc.). This flexibility is crucial for various scientific applications.\n    \n    * Performance: NumPy arrays are implemented in C and optimized for performance, enabling faster computations than Python's built-in lists, especially for large datasets.\n\n### 2. Vectorization\n\n    * Element-wise Operations: NumPy supports element-wise operations, allowing users to perform arithmetic operations on entire arrays without the need for explicit loops. This not only simplifies code but also speeds up execution.\n\n    * Broadcasting: NumPy can automatically expand smaller arrays to match the dimensions of larger arrays, facilitating operations without requiring manual manipulation of array shapes.\n\n### 3. Comprehensive Mathematical Functions\n\n    * Built-in Functions: NumPy provides a wide range of mathematical functions for statistical, linear algebra, and Fourier transformations, which are essential for scientific computing.\n\n    * Random Number Generation: The library includes functionalities for generating random numbers, useful in simulations and statistical analyses.\n\n### 4. Interoperability\n\n    * Integration with Other Libraries: NumPy serves as the foundation for many other scientific libraries, such as SciPy (for advanced scientific computations), Pandas (for data manipulation), and Matplotlib (for plotting). This makes it easy to build comprehensive data analysis workflows.\n\n### 5. Memory Efficiency\n\n    * Contiguous Memory Storage: NumPy arrays use a contiguous block of memory, leading to better cache performance and reduced memory overhead compared to lists.\n\n    * Data Types: NumPy allows specification of data types, which can help reduce memory usage when dealing with large datasets.\n\n### 6. Slicing and Indexing\n\n    * Advanced Indexing: NumPy supports advanced slicing and indexing techniques, enabling efficient data manipulation and retrieval.\n\n    * Boolean Indexing: Users can easily filter data based on conditions, making it straightforward to work with subsets of data.\n\n### 7. Support for Mathematical Operations\n\n    * Linear Algebra Functions: NumPy includes functions for matrix operations, including dot products, determinants, and eigenvalues, essential for solving systems of equations and other linear algebra tasks.\n    \n    * Fourier Transforms and Signal Processing: It provides functions for performing Fast Fourier Transforms (FFT), crucial in signal processing.\n\n### Conclusion\n\nIn summary, NumPy significantly enhances Python's capabilities for numerical operations by providing a powerful, efficient, and user-friendly interface for array manipulation and mathematical computation. Its performance advantages, combined with its extensive functionalities and integration with other libraries, make it an essential tool for anyone working in scientific computing and data analysis. Whether you're conducting research, developing algorithms, or performing data analysis, NumPy is a key asset that simplifies complex numerical tasks.",
      "metadata": {}
    },
    {
      "cell_type": "markdown",
      "source": "## 2. Compare and contrast np.mean() and np.average() functions in NumPy. When would you use one over the other?",
      "metadata": {}
    },
    {
      "cell_type": "markdown",
      "source": "Both np.mean() and np.average() are functions in NumPy used to compute the average of array elements, but they have some differences in their functionality and use cases. Here's a comparison of the two:\n\n### np.mean()\n\n* Purpose: Computes the arithmetic mean (average) of the elements in an array.\n\n* Parameters:\n    * a: Input array.\n    * axis: Axis along which to compute the mean. By default, it computes the mean of the flattened array.\n    * dtype: Data type to use in the computation.\n    * out: An optional output array to store the result.\n\n* Usage: Best for straightforward mean calculations where all elements are treated equally.\n\n#### Example:",
      "metadata": {}
    },
    {
      "cell_type": "code",
      "source": "import numpy as np\n\ndata = np.array([1, 2, 3, 4, 5])\nmean_value = np.mean(data)  # Output: 3.0",
      "metadata": {
        "trusted": true
      },
      "outputs": [],
      "execution_count": 4
    },
    {
      "cell_type": "markdown",
      "source": "### np.average()\n\n* Purpose: Computes a weighted average of the elements in an array, but can also calculate the unweighted average if weights are not provided.\n\n* Parameters:\n    * a: Input array.\n    * axis: Axis along which to compute the average. Similar to np.mean().\n    * weights: Optional weights for each element. If provided, the average is calculated based on these weights.\n    * returned: If True, it returns a tuple of the average and the weights used.\n\n* Usage: Useful when you need to compute a weighted average, where different elements contribute differently to the final average.\n\n#### Example:",
      "metadata": {}
    },
    {
      "cell_type": "code",
      "source": "data = np.array([1, 2, 3, 4, 5])\n# Unweighted average\navg_value = np.average(data)  # Output: 3.0\n\n# Weighted average\nweights = np.array([1, 1, 1, 1, 5])\nweighted_avg = np.average(data, weights=weights)  # Output: 4.0",
      "metadata": {
        "trusted": true
      },
      "outputs": [],
      "execution_count": 5
    },
    {
      "cell_type": "markdown",
      "source": "### Key Differences\n\n#### 1. Weights:\n\n* np.mean() does not support weights; it treats all elements equally.\n\n* np.average() allows for specifying weights, making it more versatile in cases where certain elements should contribute more to the average.\n\n#### 2. Functionality:\n\n* np.mean() is generally simpler and faster for basic mean calculations.\n\n* np.average() provides additional functionality for weighted averages and returning weights.\n\n#### 3. Use Cases:\n\n* Use np.mean() when you need the arithmetic mean of an array without any special considerations for weighting.\n\n* Use np.average() when you need a weighted average or when working with data where different observations have different levels of importance.\n\n### Summary\n\nIn summary, choose np.mean() for straightforward average calculations and np.average() when you need to consider weights for the data points involved. Understanding the context of your data and the requirements of your analysis will guide your choice between the two functions.",
      "metadata": {}
    },
    {
      "cell_type": "markdown",
      "source": "## 3.  Describe the methods for reversing a NumPy array along different axes. Provide examples for 1D and 2D arrays.",
      "metadata": {}
    },
    {
      "cell_type": "markdown",
      "source": "Reversing a NumPy array can be done using slicing, which is a powerful feature in NumPy. You can reverse an array along different axes, depending on whether it's a 1D or a 2D array. Here’s how you can do that:\n\n### 1D Array Reversal\n\nFor a 1D array, reversing it is straightforward. You can use slicing with a step of -1 to reverse the order of elements.\n\n#### Example:",
      "metadata": {}
    },
    {
      "cell_type": "code",
      "source": "import numpy as np\n\n# Create a 1D array\narray_1d = np.array([1, 2, 3, 4, 5])\n\n# Reverse the 1D array\nreversed_1d = array_1d[::-1]\n\nprint(\"Original 1D Array:\", array_1d)\nprint(\"Reversed 1D Array:\", reversed_1d)\n",
      "metadata": {
        "trusted": true
      },
      "outputs": [
        {
          "name": "stdout",
          "text": "Original 1D Array: [1 2 3 4 5]\nReversed 1D Array: [5 4 3 2 1]\n",
          "output_type": "stream"
        }
      ],
      "execution_count": 6
    },
    {
      "cell_type": "markdown",
      "source": "### 2D Array Reversal\n\nFor a 2D array, you can reverse the array along different axes (rows and columns) using similar slicing techniques.\n\n#### Example 1: Reverse Along Rows (Vertical Reversal)\nTo reverse the order of rows, you can use slicing on the first axis (axis 0).",
      "metadata": {}
    },
    {
      "cell_type": "code",
      "source": "# Create a 2D array\narray_2d = np.array([[1, 2, 3],\n                     [4, 5, 6],\n                     [7, 8, 9]])\n\n# Reverse the 2D array along rows\nreversed_rows = array_2d[::-1]\n\nprint(\"Original 2D Array:\\n\", array_2d)\nprint(\"Reversed 2D Array (Rows):\\n\", reversed_rows)\n",
      "metadata": {
        "trusted": true
      },
      "outputs": [
        {
          "name": "stdout",
          "text": "Original 2D Array:\n [[1 2 3]\n [4 5 6]\n [7 8 9]]\nReversed 2D Array (Rows):\n [[7 8 9]\n [4 5 6]\n [1 2 3]]\n",
          "output_type": "stream"
        }
      ],
      "execution_count": 7
    },
    {
      "cell_type": "markdown",
      "source": "#### Example 2: Reverse Along Columns (Horizontal Reversal)\nTo reverse the order of columns, you can use slicing on the second axis (axis 1).",
      "metadata": {}
    },
    {
      "cell_type": "code",
      "source": "# Reverse the 2D array along columns\nreversed_columns = array_2d[:, ::-1]\n\nprint(\"Reversed 2D Array (Columns):\\n\", reversed_columns)\n",
      "metadata": {
        "trusted": true
      },
      "outputs": [
        {
          "name": "stdout",
          "text": "Reversed 2D Array (Columns):\n [[3 2 1]\n [6 5 4]\n [9 8 7]]\n",
          "output_type": "stream"
        }
      ],
      "execution_count": 8
    },
    {
      "cell_type": "markdown",
      "source": "### Summary of Methods\n\n* 1D Array: Use array[::-1] to reverse the entire array.\n\n* 2D Array:\n    * Reverse along rows: Use array[::-1] (to reverse the first axis).\n    * Reverse along columns: Use array[:, ::-1] (to reverse the second axis).\n\nThese slicing techniques are efficient and concise, making them a powerful part of working with NumPy arrays.",
      "metadata": {}
    },
    {
      "cell_type": "markdown",
      "source": "## 4. How can you determine the data type of elements in a NumPy array? Discuss the importance of data types in memory management and performance.",
      "metadata": {}
    },
    {
      "cell_type": "markdown",
      "source": "In NumPy, you can determine the data type of the elements in an array using the .dtype attribute. This attribute provides information about the type of elements stored in the array, which can be crucial for memory management and performance.\n\n### Checking Data Types\nHere’s how you can check the data type of elements in a NumPy array:\n\n#### Example:",
      "metadata": {}
    },
    {
      "cell_type": "code",
      "source": "import numpy as np\n\n# Create an array with a specific data type\narray_int = np.array([1, 2, 3], dtype=int)\narray_float = np.array([1.0, 2.0, 3.0])\narray_str = np.array(['a', 'b', 'c'])\n\n# Check the data types\nprint(\"Data type of array_int:\", array_int.dtype)      \nprint(\"Data type of array_float:\", array_float.dtype)  \nprint(\"Data type of array_str:\", array_str.dtype)      \n",
      "metadata": {
        "trusted": true
      },
      "outputs": [
        {
          "name": "stdout",
          "text": "Data type of array_int: int32\nData type of array_float: float64\nData type of array_str: <U1\n",
          "output_type": "stream"
        }
      ],
      "execution_count": 10
    },
    {
      "cell_type": "markdown",
      "source": "### Importance of Data Types\n\n#### 1. Memory Management:\n\n* Storage Efficiency: Different data types occupy different amounts of memory. For example, an int32 uses 4 bytes, while an int64 uses 8 bytes. Choosing the appropriate data type helps optimize memory usage, especially when dealing with large datasets.\n\n* Array Size: When creating large arrays, using a smaller data type (e.g., float32 instead of float64 or int8 instead of int64) can significantly reduce memory consumption, allowing you to work with larger datasets without running into memory limitations.\n\n#### 2. Performance:\n\n* Computation Speed: Operations on smaller data types can be faster because they require less memory bandwidth and can improve cache performance. For instance, arithmetic operations on float32 are generally faster than on float64 due to the reduced amount of data being processed.\n\n* Vectorization: NumPy is optimized for array operations. If the data types are appropriate, it can leverage SIMD (Single Instruction, Multiple Data) instructions on CPUs to perform operations more efficiently.\n\n#### 3. Type-Safety:\n\n* Avoiding Errors: Specifying the correct data type helps in preventing errors. For instance, if you attempt to perform operations between incompatible types, NumPy will raise errors, helping to identify potential issues in the code.\n\n* Explicit Control: By specifying data types, you can ensure that your calculations behave as expected. This is particularly important in scientific computing, where precision matters.\n\n#### 4. Interoperability:\n\n* When working with other libraries (like Pandas, SciPy, or machine learning frameworks), ensuring that your NumPy arrays have the correct data type can be crucial for compatibility and performance.\n\n### Conclusion\n\nUnderstanding and managing data types in NumPy is vital for optimizing both memory usage and computational efficiency. By using the appropriate data types, you can enhance the performance of your applications and handle larger datasets more effectively. Always check the data type of your arrays with .dtype and choose types that align with your specific use case to achieve the best results.",
      "metadata": {}
    },
    {
      "cell_type": "markdown",
      "source": "## 5. Define ndarrays in NumPy and explain their key features. How do they differ from standard Python lists?",
      "metadata": {}
    },
    {
      "cell_type": "markdown",
      "source": "In NumPy, ndarrays (N-dimensional arrays) are the core data structure designed for efficient numerical computations. They are a powerful alternative to standard Python lists, offering several key features and advantages that make them ideal for scientific computing and data analysis.\n\n### Key Features of ndarrays\n\n#### 1. Homogeneous Data Types:\n\n* All elements in an ndarray must be of the same data type. This uniformity allows for optimized storage and performance, as operations can be executed more efficiently compared to heterogeneous data types.\n\n#### 2. Multi-dimensional:\n\n* ndarrays can have multiple dimensions (1D, 2D, 3D, etc.), allowing for the representation of complex datasets. For example, a 2D array can represent a matrix, while a 3D array can represent a collection of matrices (like an image stack).\n\n#### 3. Fixed Size:\n\n* Once created, the size of an ndarray cannot be changed. This characteristic makes them more efficient than Python lists, which can dynamically resize. However, you can create a new ndarray if you need a different size.\n\n#### 4. Contiguous Memory Allocation:\n\n* ndarrays are stored in contiguous blocks of memory, which enhances performance by optimizing cache usage. This is in contrast to Python lists, which are arrays of pointers to objects, leading to potential overhead.\n\n#### 5. Vectorized Operations:\n\n* NumPy allows for element-wise operations on entire arrays without the need for explicit loops. This vectorization results in concise code and significantly faster execution times, leveraging underlying C and Fortran libraries.\n\n#### 6. Broadcasting:\n\n* NumPy supports broadcasting, which allows for arithmetic operations on arrays of different shapes. This flexibility enables efficient computations without needing to manually align shapes.\n\n#### 7. Comprehensive Mathematical Functions:\n\n* NumPy provides a wide range of built-in mathematical functions for statistical operations, linear algebra, Fourier transforms, and more, all optimized for ndarrays.\n\n#### 8. Slicing and Indexing:\n\n* ndarrays support advanced slicing and indexing capabilities, allowing for sophisticated data manipulation and retrieval. This feature is more powerful than the basic slicing available with Python lists.\n\n### Differences from Standard Python Lists\n\n#### 1. Data Type Uniformity:\n\n* ndarrays: Homogeneous (same type for all elements).\n* Python Lists: Heterogeneous (can contain mixed types).\n\n#### 2. Performance:\n\n* ndarrays: Faster for numerical computations due to optimized memory usage and vectorization.\n* Python Lists: Slower for numerical operations, especially with large datasets due to the overhead of managing pointers.\n\n#### 3. Dimensionality:\n\n* ndarrays: Can be multi-dimensional (N-dimensional).\n* Python Lists: Primarily 1D but can contain nested lists to create multi-dimensional structures, though this is less efficient and more cumbersome.\n\n#### 4. Memory Consumption:\n\n* ndarrays: Use less memory per element, particularly for numerical types.\n* Python Lists: Have a larger memory overhead due to storing pointers to objects.\n\n#### 5. Functionality:\n\n* ndarrays: Come with a rich set of mathematical operations and functions.\n* Python Lists: Basic functionalities; advanced mathematical operations require additional code or libraries.",
      "metadata": {}
    },
    {
      "cell_type": "markdown",
      "source": "## 6.  Analyze the performance benefits of NumPy arrays over Python lists for large-scale numerical operations.",
      "metadata": {}
    },
    {
      "cell_type": "markdown",
      "source": "NumPy arrays offer several performance benefits over Python lists, particularly for large-scale numerical operations. Here are the key advantages:\n\n### 1. Memory Efficiency\n\n* Contiguous Memory Allocation: NumPy arrays store data in contiguous memory blocks, which reduces overhead and leads to better cache utilization. In contrast, Python lists are arrays of pointers to objects, which can result in increased memory consumption and fragmentation.\n* Fixed Data Types: NumPy arrays require elements to be of the same type, allowing for more compact storage. Python lists, being heterogeneous, can use more memory for type information.\n\n### 2. Performance Speed\n\n* Vectorized Operations: NumPy supports vectorized operations, allowing element-wise operations on arrays without the need for explicit loops in Python. This leads to significant speedups, especially for large datasets, as operations are implemented in optimized C code.\n* Broadcasting: NumPy can automatically expand arrays of different shapes for operations, which avoids the need for manual replication of data, enhancing both performance and code simplicity.\n\n### 3. Optimized Libraries\n\n* BLAS and LAPACK: NumPy leverages highly optimized linear algebra libraries (like BLAS and LAPACK) for mathematical computations. These libraries are implemented in low-level languages and are highly optimized for performance.\n* Compiled Functions: Many NumPy functions are implemented in C, which can provide speed advantages over Python functions that are interpreted.\n\n### 4. Reduced Overhead\n\n* Less Overhead for Operations: Operations on NumPy arrays have lower overhead compared to Python lists, due to the reduction in type checks and method calls. This is especially noticeable in loops and bulk operations.\n\n### 5. Advanced Indexing and Slicing\n\n* Efficient Slicing: NumPy's slicing is more efficient because it returns views of the array instead of copies. This allows for modifications without duplicating data.\n* Fancy Indexing: NumPy allows for advanced indexing techniques that can lead to concise and faster code for extracting and manipulating subsets of data.\n\n### 6. Parallelism\n\n* Multithreading: Many NumPy operations can be parallelized at a low level, taking advantage of multicore processors, which is often not possible with Python lists without additional libraries.\n\n### 7. Functionality\n\n* Rich Functionality: NumPy provides a wide range of mathematical functions, linear algebra routines, and statistical operations that are optimized for performance, facilitating complex numerical tasks without the need for external libraries.\n\n### Conclusion\n\nFor large-scale numerical operations, NumPy arrays significantly outperform Python lists in terms of speed, memory efficiency, and functionality. This makes them the preferred choice for scientific computing, data analysis, and any application involving substantial numerical data processing.",
      "metadata": {}
    },
    {
      "cell_type": "markdown",
      "source": "## 7. Compare vstack() and hstack() functions in NumPy. Provide examples demonstrating their usage and output.",
      "metadata": {}
    },
    {
      "cell_type": "markdown",
      "source": "In NumPy, vstack() and hstack() are functions used to stack arrays vertically and horizontally, respectively. They are particularly useful for combining arrays of compatible shapes.\n\n### 1. vstack()\n\nvstack() stacks arrays vertically (row-wise). The input arrays must have the same shape along all but the first axis.\n\n#### Example of vstack()",
      "metadata": {}
    },
    {
      "cell_type": "code",
      "source": "import numpy as np\n\n# Creating two 1D arrays\narray1 = np.array([1, 2, 3])\narray2 = np.array([4, 5, 6])\n\n# Stacking vertically\nresult_vstack = np.vstack((array1, array2))\n\nprint(\"Result of vstack:\")\nprint(result_vstack)",
      "metadata": {
        "trusted": true
      },
      "outputs": [
        {
          "name": "stdout",
          "text": "Result of vstack:\n[[1 2 3]\n [4 5 6]]\n",
          "output_type": "stream"
        }
      ],
      "execution_count": 2
    },
    {
      "cell_type": "markdown",
      "source": "### 2. hstack()\n\nhstack() stacks arrays horizontally (column-wise). The input arrays must have the same number of dimensions along all but the second axis.\n\n#### Example of hstack()",
      "metadata": {}
    },
    {
      "cell_type": "code",
      "source": "# Creating two 2D arrays\narray3 = np.array([[1, 2, 3], [7, 8, 9]])\narray4 = np.array([[4, 5, 6], [10, 11, 12]])\n\n# Stacking horizontally\nresult_hstack = np.hstack((array3, array4))\n\nprint(\"Result of hstack:\")\nprint(result_hstack)\n",
      "metadata": {
        "trusted": true
      },
      "outputs": [
        {
          "name": "stdout",
          "text": "Result of hstack:\n[[ 1  2  3  4  5  6]\n [ 7  8  9 10 11 12]]\n",
          "output_type": "stream"
        }
      ],
      "execution_count": 3
    },
    {
      "cell_type": "markdown",
      "source": "### Summary\n\n* vstack(): Stacks arrays vertically, increasing the number of rows.\n* hstack(): Stacks arrays horizontally, increasing the number of columns.\n\nBoth functions are handy for combining data in different ways, depending on how we want to structure your arrays.",
      "metadata": {}
    },
    {
      "cell_type": "markdown",
      "source": "## 8. Explain the differences between fliplr() and flipud() methods in NumPy, including their effects on various array dimensions.",
      "metadata": {}
    },
    {
      "cell_type": "markdown",
      "source": "In NumPy, the functions fliplr() and flipud() are used to flip arrays, but they operate in different orientations. Here’s a detailed explanation of each, along with their effects on different array dimensions.\n\n### 1. fliplr()\n\n* Function: fliplr() flips an array from left to right (i.e., it reverses the order of the columns).\n* Usage: It operates on 2D arrays and can also be applied to higher-dimensional arrays, where it flips the last dimension (the columns).\n\n#### Example of fliplr()",
      "metadata": {}
    },
    {
      "cell_type": "code",
      "source": "import numpy as np\n\narray2D = np.array([[1, 2, 3],\n                    [4, 5, 6]])\n\nresult_fliplr = np.fliplr(array2D)\n\nprint(\"Original Array:\")\nprint(array2D)\nprint(\"\\nArray after fliplr:\")\nprint(result_fliplr)\n",
      "metadata": {
        "trusted": true
      },
      "outputs": [
        {
          "name": "stdout",
          "text": "Original Array:\n[[1 2 3]\n [4 5 6]]\n\nArray after fliplr:\n[[3 2 1]\n [6 5 4]]\n",
          "output_type": "stream"
        }
      ],
      "execution_count": 4
    },
    {
      "cell_type": "markdown",
      "source": "### 2. flipud()\n\n* Function: flipud() flips an array upside down (i.e., it reverses the order of the rows).\n* Usage: It operates on 2D arrays and higher-dimensional arrays, where it flips the first dimension (the rows).\n\n#### Example of flipud()",
      "metadata": {}
    },
    {
      "cell_type": "code",
      "source": "result_flipud = np.flipud(array2D)\n\nprint(\"\\nArray after flipud:\")\nprint(result_flipud)\n",
      "metadata": {
        "trusted": true
      },
      "outputs": [
        {
          "name": "stdout",
          "text": "\nArray after flipud:\n[[4 5 6]\n [1 2 3]]\n",
          "output_type": "stream"
        }
      ],
      "execution_count": 5
    },
    {
      "cell_type": "markdown",
      "source": "### Effects on Different Array Dimensions\n\n#### 2D Arrays:\n\n* fliplr(): Flips columns.\n* flipud(): Flips rows.\n\n#### 1D Arrays:\n\n* Both functions will behave the same since there are no columns or rows to flip. The output will be the same for both methods.\n\n#### Example with 1D Array",
      "metadata": {}
    },
    {
      "cell_type": "code",
      "source": "array1D = np.array([1, 2, 3, 4, 5])\n\nresult_fliplr_1d = np.fliplr(array1D.reshape(1, -1))  # Reshape for fliplr\nresult_flipud_1d = np.flipud(array1D)\n\nprint(\"\\n1D Array flipped with fliplr (as 2D):\")\nprint(result_fliplr_1d)\nprint(\"\\n1D Array flipped with flipud:\")\nprint(result_flipud_1d)\n",
      "metadata": {
        "trusted": true
      },
      "outputs": [
        {
          "name": "stdout",
          "text": "\n1D Array flipped with fliplr (as 2D):\n[[5 4 3 2 1]]\n\n1D Array flipped with flipud:\n[5 4 3 2 1]\n",
          "output_type": "stream"
        }
      ],
      "execution_count": 6
    },
    {
      "cell_type": "markdown",
      "source": "### Summary\n\n* fliplr(): Flips the array left to right (column-wise) for 2D arrays.\n* flipud(): Flips the array upside down (row-wise) for 2D arrays.\n* For 1D arrays, both will effectively reverse the order of elements.\n\nThese functions are useful for manipulating the orientation of data in an array, particularly in image processing or data analysis tasks.",
      "metadata": {}
    },
    {
      "cell_type": "markdown",
      "source": "## 9. Discuss the functionality of the array_split() method in NumPy. How does it handle uneven splits?",
      "metadata": {}
    },
    {
      "cell_type": "markdown",
      "source": "The array_split() method in NumPy is used to divide an array into multiple sub-arrays along a specified axis. It provides flexibility when splitting arrays, especially when the total number of elements does not evenly divide by the number of desired splits.\n\n### Functionality of array_split()\n\nSyntax:",
      "metadata": {}
    },
    {
      "cell_type": "raw",
      "source": "numpy.array_split(ary, indices_or_sections, axis=0)",
      "metadata": {}
    },
    {
      "cell_type": "markdown",
      "source": "* ary: The input array to be split.\n\n* indices_or_sections: This can be an integer (number of splits) or a list of indices where the splits should occur.\n\n* axis: The axis along which to split the array (default is 0).\n\n#### Key Features:\n\n1. Splitting by Number of Sections: If you specify an integer, NumPy will attempt to split the array into that many equal sections. If the array cannot be split evenly, NumPy will create sub-arrays of varying sizes.\n\n2. Splitting by Indices: You can also provide a list of indices. This tells NumPy where to make the splits. The resulting sub-arrays will have sizes based on the indices specified.\n\n3. Supports Multi-dimensional Arrays: The function can be used on arrays of any dimension, and the splitting occurs along the specified axis.\n\n### Handling Uneven Splits\n\nWhen the total number of elements in the array does not evenly divide by the number of requested splits, array_split() ensures that:\n\n* The first few sub-arrays will have one more element than the remaining sub-arrays.\n* The function maintains the order of the elements and redistributes them as evenly as possible.\n\n### Examples\n\n#### Example 1: Splitting by Number of Sections",
      "metadata": {}
    },
    {
      "cell_type": "code",
      "source": "import numpy as np\n\narray = np.array([1, 2, 3, 4, 5, 6, 7, 8])\n\n# Split into 3 sections\nsplit_array = np.array_split(array, 3)\n\nprint(\"Array Split into 3 sections:\")\nfor i, arr in enumerate(split_array):\n    print(f\"Section {i + 1}: {arr}\")\n",
      "metadata": {
        "trusted": true
      },
      "outputs": [
        {
          "name": "stdout",
          "text": "Array Split into 3 sections:\nSection 1: [1 2 3]\nSection 2: [4 5 6]\nSection 3: [7 8]\n",
          "output_type": "stream"
        }
      ],
      "execution_count": 9
    },
    {
      "cell_type": "markdown",
      "source": "#### Example 2: Splitting by Indices",
      "metadata": {}
    },
    {
      "cell_type": "code",
      "source": "# Split at indices 2 and 5\nsplit_array_indices = np.array_split(array, [2, 5])\n\nprint(\"\\nArray Split at indices 2 and 5:\")\nfor i, arr in enumerate(split_array_indices):\n    print(f\"Section {i + 1}: {arr}\")\n",
      "metadata": {
        "trusted": true
      },
      "outputs": [
        {
          "name": "stdout",
          "text": "\nArray Split at indices 2 and 5:\nSection 1: [1 2]\nSection 2: [3 4 5]\nSection 3: [6 7 8]\n",
          "output_type": "stream"
        }
      ],
      "execution_count": 10
    },
    {
      "cell_type": "markdown",
      "source": "#### Example 3: 2D Array Split",
      "metadata": {}
    },
    {
      "cell_type": "code",
      "source": "array_2D = np.array([[1, 2, 3],\n                     [4, 5, 6],\n                     [7, 8, 9]])\n\n# Split into 2 sections along the first axis\nsplit_array_2D = np.array_split(array_2D, 2, axis=0)\n\nprint(\"\\n2D Array Split into 2 sections:\")\nfor i, arr in enumerate(split_array_2D):\n    print(f\"Section {i + 1}:\\n{arr}\")\n",
      "metadata": {
        "trusted": true
      },
      "outputs": [
        {
          "name": "stdout",
          "text": "\n2D Array Split into 2 sections:\nSection 1:\n[[1 2 3]\n [4 5 6]]\nSection 2:\n[[7 8 9]]\n",
          "output_type": "stream"
        }
      ],
      "execution_count": 11
    },
    {
      "cell_type": "markdown",
      "source": "### Summary\n\n* array_split() allows for flexible splitting of arrays into sub-arrays.\n* It handles uneven splits gracefully, ensuring that the elements are distributed as evenly as possible.\n* The function works for both 1D and multi-dimensional arrays, making it versatile for various applications in data manipulation and analysis.",
      "metadata": {}
    },
    {
      "cell_type": "markdown",
      "source": "## 10. Explain the concepts of vectorization and broadcasting in NumPy. How do they contribute to efficient array operations?",
      "metadata": {}
    },
    {
      "cell_type": "markdown",
      "source": "Vectorization and broadcasting are two fundamental concepts in NumPy that enhance the efficiency and performance of array operations, especially in numerical computing.\n\n### Vectorization\n\nConcept: Vectorization refers to the process of applying operations to entire arrays (or large sections of arrays) without the need for explicit loops in Python. Instead of iterating over individual elements, vectorized operations leverage optimized C and Fortran code underneath, leading to faster execution.\n\n##### Benefits:\n\n1. Performance: Vectorized operations are typically much faster than their loop-based counterparts. This is because the underlying implementations are optimized and can take advantage of low-level optimizations and CPU capabilities.\n2. Concise Code: Vectorization leads to cleaner and more readable code. It allows for expressing operations in a more mathematical way, which is often more intuitive.\n\n#### Example: Instead of using a loop to add two arrays element-wise:",
      "metadata": {}
    },
    {
      "cell_type": "code",
      "source": "import numpy as np\n\na = np.array([1, 2, 3])\nb = np.array([4, 5, 6])\n\n# Using a loop\nresult = np.zeros(3)\nfor i in range(len(a)):\n    result[i] = a[i] + b[i]\n\n# Vectorized approach\nresult_vectorized = a + b\n",
      "metadata": {
        "trusted": true
      },
      "outputs": [],
      "execution_count": 12
    },
    {
      "cell_type": "markdown",
      "source": "The vectorized operation a + b is not only more efficient but also more concise.\n\n### Broadcasting\n\nConcept: Broadcasting is a technique that allows NumPy to perform arithmetic operations on arrays of different shapes. When performing operations on arrays, NumPy automatically expands the smaller array across the larger array so that they have compatible shapes.\n\n#### How It Works:\n\n* Alignment: NumPy compares the shapes of the arrays involved in the operation. If they do not match, it attempts to align them by expanding the dimensions of the smaller array.\n* Rules for Broadcasting:\n    1. If the arrays have different numbers of dimensions, the shape of the smaller array is padded with ones on the left side until both shapes are the same.\n    2. The sizes of the dimensions are compared:\n        * If they are equal, they are compatible.\n        * If one of the dimensions is 1, that dimension is expanded to match the other.\n        * If the sizes are different and neither is 1, broadcasting fails.\n\n#### Example: Consider adding a 1D array to a 2D array:",
      "metadata": {}
    },
    {
      "cell_type": "code",
      "source": "a = np.array([[1, 2, 3],\n              [4, 5, 6]])\n\nb = np.array([10, 20, 30])\n\n# Broadcasting\nresult_broadcasting = a + b",
      "metadata": {
        "trusted": true
      },
      "outputs": [],
      "execution_count": 14
    },
    {
      "cell_type": "markdown",
      "source": "### Contribution to Efficient Array Operations\n\n1. Reduced Overhead: By eliminating the need for explicit loops, vectorization reduces the overhead associated with Python function calls and context switching.\n\n2. Optimized Execution: Both vectorization and broadcasting leverage highly optimized libraries (like BLAS and LAPACK) that can execute operations in compiled languages, resulting in significant speed improvements.\n\n3. Memory Efficiency: Broadcasting allows for the use of smaller arrays without needing to create large temporary copies, conserving memory.\n\n4. Simplicity and Readability: Vectorized and broadcasted operations lead to clearer and more maintainable code, making it easier to express complex mathematical operations succinctly.\n\n### Conclusion\n\nTogether, vectorization and broadcasting enable efficient array operations in NumPy, significantly enhancing performance while simplifying code. These features make NumPy a powerful tool for numerical computations, data analysis, and scientific computing.",
      "metadata": {}
    },
    {
      "cell_type": "markdown",
      "source": "# Practical Questions:",
      "metadata": {}
    },
    {
      "cell_type": "markdown",
      "source": "## 1. Create a 3x3 NumPy array with random integers between 1 and 100. Then, interchange its rows and columns.",
      "metadata": {}
    },
    {
      "cell_type": "markdown",
      "source": "To create a 3x3 NumPy array with random integers between 1 and 100 and then interchange its rows and columns (i.e., perform a transpose operation), we can use the following code:",
      "metadata": {}
    },
    {
      "cell_type": "code",
      "source": "import numpy as np\n\n# Create a 3x3 array with random integers between 1 and 100\narray = np.random.randint(1, 101, size=(3, 3))\n\nprint(\"Original Array:\")\nprint(array)\n\n# Interchange rows and columns (transpose)\ntransposed_array = array.T\n\nprint(\"\\nTransposed Array:\")\nprint(transposed_array)\n",
      "metadata": {
        "trusted": true
      },
      "outputs": [
        {
          "name": "stdout",
          "text": "Original Array:\n[[55 36 29]\n [45 79 74]\n [43  9 65]]\n\nTransposed Array:\n[[55 45 43]\n [36 79  9]\n [29 74 65]]\n",
          "output_type": "stream"
        }
      ],
      "execution_count": 15
    },
    {
      "cell_type": "markdown",
      "source": "### Explanation:\n\n1. Creating the Array: The np.random.randint(1, 101, size=(3, 3)) function generates a 3x3 array with random integers ranging from 1 to 100.\n2. Transposing the Array: The .T attribute is used to transpose the array, effectively interchanging its rows and columns.",
      "metadata": {}
    },
    {
      "cell_type": "markdown",
      "source": " The actual numbers will vary each time we run the code due to the random generation.",
      "metadata": {}
    },
    {
      "cell_type": "markdown",
      "source": "## 2. Generate a 1D NumPy array with 10 elements. Reshape it into a 2x5 array, then into a 5x2 array.",
      "metadata": {}
    },
    {
      "cell_type": "markdown",
      "source": "We can generate a 1D NumPy array with 10 elements and reshape it into a 2x5 array and then into a 5x2 array using the following code:",
      "metadata": {}
    },
    {
      "cell_type": "code",
      "source": "import numpy as np\n\n# Generate a 1D array with 10 elements\narray_1d = np.arange(10)  # This will create an array with elements [0, 1, 2, ..., 9]\n\nprint(\"Original 1D Array:\")\nprint(array_1d)\n\n# Reshape into a 2x5 array\narray_2x5 = array_1d.reshape(2, 5)\nprint(\"\\nReshaped to 2x5 Array:\")\nprint(array_2x5)\n\n# Reshape into a 5x2 array\narray_5x2 = array_1d.reshape(5, 2)\nprint(\"\\nReshaped to 5x2 Array:\")\nprint(array_5x2)\n",
      "metadata": {
        "trusted": true
      },
      "outputs": [
        {
          "name": "stdout",
          "text": "Original 1D Array:\n[0 1 2 3 4 5 6 7 8 9]\n\nReshaped to 2x5 Array:\n[[0 1 2 3 4]\n [5 6 7 8 9]]\n\nReshaped to 5x2 Array:\n[[0 1]\n [2 3]\n [4 5]\n [6 7]\n [8 9]]\n",
          "output_type": "stream"
        }
      ],
      "execution_count": 16
    },
    {
      "cell_type": "markdown",
      "source": "### Explanation:\n\n1. Generating the 1D Array: The np.arange(10) function creates a 1D array containing the integers from 0 to 9.\n2. Reshaping:\n    * The reshape(2, 5) method transforms the 1D array into a 2x5 array.\n    * The reshape(5, 2) method transforms the 1D array into a 5x2 array.",
      "metadata": {}
    },
    {
      "cell_type": "markdown",
      "source": "This output demonstrates the original array and the reshaped forms.",
      "metadata": {}
    },
    {
      "cell_type": "markdown",
      "source": "## 3. Create a 4x4 NumPy array with random float values. Add a border of zeros around it, resulting in a 6x6 array.",
      "metadata": {}
    },
    {
      "cell_type": "markdown",
      "source": "We can create a 4x4 NumPy array with random float values and then add a border of zeros around it to create a 6x6 array using the following code:",
      "metadata": {}
    },
    {
      "cell_type": "code",
      "source": "import numpy as np\n\n# Create a 4x4 array with random float values\narray_4x4 = np.random.rand(4, 4)  # Generates values between 0 and 1\n\nprint(\"Original 4x4 Array:\")\nprint(array_4x4)\n\n# Add a border of zeros around the array\narray_with_border = np.pad(array_4x4, pad_width=1, mode='constant', constant_values=0)\n\nprint(\"\\n6x6 Array with Border of Zeros:\")\nprint(array_with_border)\n",
      "metadata": {
        "trusted": true
      },
      "outputs": [
        {
          "name": "stdout",
          "text": "Original 4x4 Array:\n[[0.01834169 0.69713604 0.23113671 0.13384415]\n [0.33590463 0.69512602 0.92024653 0.32586875]\n [0.18360352 0.14799664 0.88691774 0.32714608]\n [0.68082324 0.805809   0.51255524 0.10056577]]\n\n6x6 Array with Border of Zeros:\n[[0.         0.         0.         0.         0.         0.        ]\n [0.         0.01834169 0.69713604 0.23113671 0.13384415 0.        ]\n [0.         0.33590463 0.69512602 0.92024653 0.32586875 0.        ]\n [0.         0.18360352 0.14799664 0.88691774 0.32714608 0.        ]\n [0.         0.68082324 0.805809   0.51255524 0.10056577 0.        ]\n [0.         0.         0.         0.         0.         0.        ]]\n",
          "output_type": "stream"
        }
      ],
      "execution_count": 17
    },
    {
      "cell_type": "markdown",
      "source": "### Explanation:\n\n1. Generating the 4x4 Array: The np.random.rand(4, 4) function generates a 4x4 array with random float values between 0 and 1.\n2. Adding the Border: The np.pad() function adds a border of zeros around the original array. The pad_width=1 argument specifies that one layer of zeros should be added around all sides, and mode='constant' with constant_values=0 indicates that the padding value should be zero.\n\nThe actual random values will differ each time you run the code, but the structure of the arrays will remain consistent.",
      "metadata": {}
    },
    {
      "cell_type": "markdown",
      "source": "## 4.  Using NumPy, create an array of integers from 10 to 60 with a step of 5.",
      "metadata": {}
    },
    {
      "cell_type": "markdown",
      "source": "We can create an array of integers from 10 to 60 with a step of 5 using the np.arange() function in NumPy. Here’s how to do it:",
      "metadata": {}
    },
    {
      "cell_type": "code",
      "source": "import numpy as np\n\n# Create an array of integers from 10 to 60 with a step of 5\narray = np.arange(10, 61, 5)\n\nprint(\"Array of integers from 10 to 60 with a step of 5:\")\nprint(array)\n",
      "metadata": {
        "trusted": true
      },
      "outputs": [
        {
          "name": "stdout",
          "text": "Array of integers from 10 to 60 with a step of 5:\n[10 15 20 25 30 35 40 45 50 55 60]\n",
          "output_type": "stream"
        }
      ],
      "execution_count": 18
    },
    {
      "cell_type": "markdown",
      "source": "### Explanation:\nnp.arange(start, stop, step): This function generates values starting from start, up to (but not including) stop, with the specified step.\n\nThis creates an array that includes all integers from 10 to 60, incrementing by 5.",
      "metadata": {}
    },
    {
      "cell_type": "markdown",
      "source": "## 5. Create a NumPy array of strings ['python', 'numpy', 'pandas']. Apply different case transformations (uppercase, lowercase, title case, etc.) to each element.",
      "metadata": {}
    },
    {
      "cell_type": "markdown",
      "source": "We can create a NumPy array of strings and then apply different case transformations to each element using NumPy's vectorized string operations. Here's how to do it:",
      "metadata": {}
    },
    {
      "cell_type": "code",
      "source": "import numpy as np\n\n# Create a NumPy array of strings\narray = np.array(['python', 'numpy', 'pandas'])\n\n# Apply different case transformations\nuppercase_array = np.char.upper(array)\nlowercase_array = np.char.lower(array)\ntitlecase_array = np.char.title(array)\ncapitalize_array = np.char.capitalize(array)\n\n# Print the results\nprint(\"Original Array:\")\nprint(array)\n\nprint(\"\\nUppercase:\")\nprint(uppercase_array)\n\nprint(\"\\nLowercase:\")\nprint(lowercase_array)\n\nprint(\"\\nTitle Case:\")\nprint(titlecase_array)\n\nprint(\"\\nCapitalized:\")\nprint(capitalize_array)\n",
      "metadata": {
        "trusted": true
      },
      "outputs": [
        {
          "name": "stdout",
          "text": "Original Array:\n['python' 'numpy' 'pandas']\n\nUppercase:\n['PYTHON' 'NUMPY' 'PANDAS']\n\nLowercase:\n['python' 'numpy' 'pandas']\n\nTitle Case:\n['Python' 'Numpy' 'Pandas']\n\nCapitalized:\n['Python' 'Numpy' 'Pandas']\n",
          "output_type": "stream"
        }
      ],
      "execution_count": 19
    },
    {
      "cell_type": "markdown",
      "source": "### Explanation:\n\n1. Creating the Array: The array is created with three string elements.\n2. String Operations:\n    * np.char.upper(): Converts each string to uppercase.\n    * np.char.lower(): Converts each string to lowercase.\n    * np.char.title(): Converts each string to title case (first letter of each word capitalized).\n    * np.char.capitalize(): Capitalizes the first letter of each string.\n\nThis shows the original array alongside the transformed versions, demonstrating the various case transformations applied to each string element.",
      "metadata": {}
    },
    {
      "cell_type": "markdown",
      "source": "## 6.  Generate a NumPy array of words. Insert a space between each character of every word in the array.",
      "metadata": {}
    },
    {
      "cell_type": "markdown",
      "source": "We can generate a NumPy array of words and insert a space between each character of every word using NumPy's string operations. Here's how to do it:",
      "metadata": {}
    },
    {
      "cell_type": "code",
      "source": "import numpy as np\n\n# Create a NumPy array of words\nwords_array = np.array(['hello', 'world', 'numpy', 'python'])\n\n# Insert a space between each character of every word\nspaced_array = np.char.join(' ', words_array)\n\n# Print the results\nprint(\"Original Array:\")\nprint(words_array)\n\nprint(\"\\nArray with spaces between characters:\")\nprint(spaced_array)\n",
      "metadata": {
        "trusted": true
      },
      "outputs": [
        {
          "name": "stdout",
          "text": "Original Array:\n['hello' 'world' 'numpy' 'python']\n\nArray with spaces between characters:\n['h e l l o' 'w o r l d' 'n u m p y' 'p y t h o n']\n",
          "output_type": "stream"
        }
      ],
      "execution_count": 20
    },
    {
      "cell_type": "markdown",
      "source": "### Explanation:\n\n1. Creating the Array: The array is created with four words.\n2. Inserting Spaces: The np.char.join() function is used to insert a space between each character in the words. The first argument is the string to insert (in this case, a single space), and the second argument is the array of words.\n\nThis shows the original array of words alongside the modified array where spaces have been inserted between the characters of each word.",
      "metadata": {}
    },
    {
      "cell_type": "markdown",
      "source": "## 7.  Create two 2D NumPy arrays and perform element-wise addition, subtraction, multiplication, and division.",
      "metadata": {}
    },
    {
      "cell_type": "markdown",
      "source": "We can create two 2D NumPy arrays and perform element-wise operations such as addition, subtraction, multiplication, and division using the following code:",
      "metadata": {}
    },
    {
      "cell_type": "code",
      "source": "import numpy as np\n\n# Create two 2D NumPy arrays\narray1 = np.array([[1, 2, 3],\n                   [4, 5, 6]])\n\narray2 = np.array([[7, 8, 9],\n                   [10, 11, 12]])\n\n# Perform element-wise addition\naddition_result = array1 + array2\n\n# Perform element-wise subtraction\nsubtraction_result = array1 - array2\n\n# Perform element-wise multiplication\nmultiplication_result = array1 * array2\n\n# Perform element-wise division\ndivision_result = array1 / array2\n\n# Print the results\nprint(\"Array 1:\")\nprint(array1)\n\nprint(\"\\nArray 2:\")\nprint(array2)\n\nprint(\"\\nElement-wise Addition:\")\nprint(addition_result)\n\nprint(\"\\nElement-wise Subtraction:\")\nprint(subtraction_result)\n\nprint(\"\\nElement-wise Multiplication:\")\nprint(multiplication_result)\n\nprint(\"\\nElement-wise Division:\")\nprint(division_result)\n",
      "metadata": {
        "trusted": true
      },
      "outputs": [
        {
          "name": "stdout",
          "text": "Array 1:\n[[1 2 3]\n [4 5 6]]\n\nArray 2:\n[[ 7  8  9]\n [10 11 12]]\n\nElement-wise Addition:\n[[ 8 10 12]\n [14 16 18]]\n\nElement-wise Subtraction:\n[[-6 -6 -6]\n [-6 -6 -6]]\n\nElement-wise Multiplication:\n[[ 7 16 27]\n [40 55 72]]\n\nElement-wise Division:\n[[0.14285714 0.25       0.33333333]\n [0.4        0.45454545 0.5       ]]\n",
          "output_type": "stream"
        }
      ],
      "execution_count": 21
    },
    {
      "cell_type": "markdown",
      "source": "### Explanation:\n\n1. Creating the Arrays: Two 2D arrays, array1 and array2, are created with different integer values.\n\n2. Element-wise Operations:\n    \n    * Addition: array1 + array2\n   \n    * Subtraction: array1 - array2\n    \n    * Multiplication: array1 * array2\n    \n    * Division: array1 / array2\n\nThis output shows the original arrays alongside the results of the element-wise addition, subtraction, multiplication, and division operations.",
      "metadata": {}
    },
    {
      "cell_type": "markdown",
      "source": "## 8. Use NumPy to create a 5x5 identity matrix, then extract its diagonal elements.",
      "metadata": {}
    },
    {
      "cell_type": "markdown",
      "source": "We can create a 5x5 identity matrix using NumPy and then extract its diagonal elements with the following code:",
      "metadata": {}
    },
    {
      "cell_type": "code",
      "source": "import numpy as np\n\n# Create a 5x5 identity matrix\nidentity_matrix = np.eye(5)\n\nprint(\"5x5 Identity Matrix:\")\nprint(identity_matrix)\n\n# Extract the diagonal elements\ndiagonal_elements = np.diag(identity_matrix)\n\nprint(\"\\nDiagonal Elements:\")\nprint(diagonal_elements)\n",
      "metadata": {
        "trusted": true
      },
      "outputs": [
        {
          "name": "stdout",
          "text": "5x5 Identity Matrix:\n[[1. 0. 0. 0. 0.]\n [0. 1. 0. 0. 0.]\n [0. 0. 1. 0. 0.]\n [0. 0. 0. 1. 0.]\n [0. 0. 0. 0. 1.]]\n\nDiagonal Elements:\n[1. 1. 1. 1. 1.]\n",
          "output_type": "stream"
        }
      ],
      "execution_count": 22
    },
    {
      "cell_type": "markdown",
      "source": "### Explanation:\n\n1. Creating the Identity Matrix: The np.eye(5) function generates a 5x5 identity matrix, where all the elements on the main diagonal are 1, and all other elements are 0.\n\n2. Extracting the Diagonal: The np.diag() function is used to extract the diagonal elements from the identity matrix.",
      "metadata": {}
    },
    {
      "cell_type": "markdown",
      "source": "## 9.  Generate a NumPy array of 100 random integers between 0 and 1000. Find and display all prime numbers in this array.",
      "metadata": {}
    },
    {
      "cell_type": "markdown",
      "source": "We can generate a NumPy array of 100 random integers between 0 and 1000 and then find and display all prime numbers in that array using the following code:",
      "metadata": {}
    },
    {
      "cell_type": "code",
      "source": "import numpy as np\n\n# Generate an array of 100 random integers between 0 and 1000\nrandom_integers = np.random.randint(0, 1001, size=100)\n\n# Function to check if a number is prime\ndef is_prime(n):\n    if n <= 1:\n        return False\n    for i in range(2, int(n**0.5) + 1):\n        if n % i == 0:\n            return False\n    return True\n\n# Find all prime numbers in the array\nprime_numbers = np.array([num for num in random_integers if is_prime(num)])\n\n# Print the results\nprint(\"Random Integers Array:\")\nprint(random_integers)\n\nprint(\"\\nPrime Numbers in the Array:\")\nprint(prime_numbers)\n",
      "metadata": {
        "trusted": true
      },
      "outputs": [
        {
          "name": "stdout",
          "text": "Random Integers Array:\n[653 142 606 460 210 228 125 275 155 179 373 122 298 644  49 482 590 654\n 755 531 268  16 786 388 118 573 187 688  45 510 864  49 106 514 271 796\n 980 206  48 773 799 996 183 378 891 790 942 748 469 876 997 171 318 950\n  42 252 913 502 407 450  51 674 970 107 459 333 886 526 692 687  20 999\n   2 591 349 940 105 645 931 884 419 403 114 933 556  86 271 757 602 378\n 771 204 109 538 912 689  99 564 635 535]\n\nPrime Numbers in the Array:\n[653 179 373 271 773 997 107   2 349 419 271 757 109]\n",
          "output_type": "stream"
        }
      ],
      "execution_count": 23
    },
    {
      "cell_type": "markdown",
      "source": "### Explanation:\n\n1. Generating Random Integers: The np.random.randint(0, 1001, size=100) function generates an array of 100 random integers between 0 and 1000.\n\n2. Prime Checking Function: The is_prime function checks if a number is prime:\n    * It returns False for numbers less than or equal to 1.\n    * It checks divisibility from 2 up to the square root of the number.\n\n3. Finding Prime Numbers: A list comprehension is used to filter out prime numbers from the random integers array.\n\n4. Results: The original array and the prime numbers found in it are printed.\n\nIn this output, the random integers array contains various numbers, and the prime numbers extracted from it are displayed. The actual numbers will change with each execution due to randomness.",
      "metadata": {}
    },
    {
      "cell_type": "markdown",
      "source": "## 10. Create a NumPy array representing daily temperatures for a month. Calculate and display the weekly averages.",
      "metadata": {}
    },
    {
      "cell_type": "markdown",
      "source": "We can create a NumPy array representing daily temperatures for a month (30 days) and then calculate and display the weekly averages using the following code:",
      "metadata": {}
    },
    {
      "cell_type": "code",
      "source": "import numpy as np\n\n# Generate a NumPy array representing daily temperatures for 30 days\n# Let's assume temperatures are between 15 and 30 degrees Celsius\ndaily_temperatures = np.random.uniform(15, 30, size=30)\n\nprint(\"Daily Temperatures for the Month:\")\nprint(daily_temperatures)\n\n# Reshape the array into weeks (4 weeks of 7 days each + 2 extra days)\n# Note: For simplicity, we can consider the last week with the available days.\nweeks = daily_temperatures.reshape(4, 7)\n\n# Calculate weekly averages\nweekly_averages = np.mean(weeks, axis=1)\n\nprint(\"\\nWeekly Averages:\")\nprint(weekly_averages)",
      "metadata": {
        "trusted": true
      },
      "outputs": [
        {
          "name": "stdout",
          "text": "Daily Temperatures for the Month:\n[16.17763508 23.3339284  15.12591031 28.28205007 28.12010461 20.40363989\n 29.06261887 17.53738346 20.83801748 18.7740609  20.1947613  18.48714395\n 20.68377389 18.79884224 23.92615638 25.73734809 19.89930121 17.30423311\n 28.78353761 17.65572463 20.57067105 26.53319648 24.42727822 22.10559903\n 20.12178319 23.13337304 29.38157695 24.63551564 19.8624791  21.46215941]\n",
          "output_type": "stream"
        },
        {
          "ename": "<class 'ValueError'>",
          "evalue": "cannot reshape array of size 30 into shape (4,7)",
          "traceback": [
            "\u001b[0;31m---------------------------------------------------------------------------\u001b[0m",
            "\u001b[0;31mValueError\u001b[0m                                Traceback (most recent call last)",
            "Cell \u001b[0;32mIn[38], line 12\u001b[0m\n\u001b[1;32m      8\u001b[0m \u001b[38;5;28mprint\u001b[39m(daily_temperatures)\n\u001b[1;32m     10\u001b[0m \u001b[38;5;66;03m# Reshape the array into weeks (4 weeks of 7 days each + 2 extra days)\u001b[39;00m\n\u001b[1;32m     11\u001b[0m \u001b[38;5;66;03m# Note: For simplicity, we can consider the last week with the available days.\u001b[39;00m\n\u001b[0;32m---> 12\u001b[0m weeks \u001b[38;5;241m=\u001b[39m \u001b[43mdaily_temperatures\u001b[49m\u001b[38;5;241;43m.\u001b[39;49m\u001b[43mreshape\u001b[49m\u001b[43m(\u001b[49m\u001b[38;5;241;43m4\u001b[39;49m\u001b[43m,\u001b[49m\u001b[43m \u001b[49m\u001b[38;5;241;43m7\u001b[39;49m\u001b[43m)\u001b[49m\n\u001b[1;32m     14\u001b[0m \u001b[38;5;66;03m# Calculate weekly averages\u001b[39;00m\n\u001b[1;32m     15\u001b[0m weekly_averages \u001b[38;5;241m=\u001b[39m np\u001b[38;5;241m.\u001b[39mmean(weeks, axis\u001b[38;5;241m=\u001b[39m\u001b[38;5;241m1\u001b[39m)\n",
            "\u001b[0;31mValueError\u001b[0m: cannot reshape array of size 30 into shape (4,7)"
          ],
          "output_type": "error"
        }
      ],
      "execution_count": 38
    },
    {
      "cell_type": "markdown",
      "source": "### Explanation:\n\n1. Generating Daily Temperatures: The np.random.uniform(15, 30, size=30) function generates an array of 30 random float values between 15 and 30 degrees Celsius to represent daily temperatures.\n2. Reshaping for Weeks: The array is reshaped into a 4x7 array, representing 4 complete weeks. The last week will contain the remaining days (if needed).\n3. Calculating Weekly Averages: The np.mean() function calculates the average temperature for each week along the specified axis (1 for rows).\n\nThis output shows the daily temperatures for a month and the calculated weekly averages, demonstrating how to manage and analyze temperature data using NumPy.",
      "metadata": {}
    },
    {
      "cell_type": "code",
      "source": "",
      "metadata": {
        "trusted": true
      },
      "outputs": [],
      "execution_count": null
    }
  ]
}